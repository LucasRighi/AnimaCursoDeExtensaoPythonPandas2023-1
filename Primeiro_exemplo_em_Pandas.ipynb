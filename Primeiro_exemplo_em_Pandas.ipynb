{
  "nbformat": 4,
  "nbformat_minor": 0,
  "metadata": {
    "colab": {
      "provenance": [],
      "authorship_tag": "ABX9TyMJSXfIFiU1SCtuBu/1X56D",
      "include_colab_link": true
    },
    "kernelspec": {
      "name": "python3",
      "display_name": "Python 3"
    },
    "language_info": {
      "name": "python"
    }
  },
  "cells": [
    {
      "cell_type": "markdown",
      "metadata": {
        "id": "view-in-github",
        "colab_type": "text"
      },
      "source": [
        "<a href=\"https://colab.research.google.com/github/LucasRighi/AnimaCursoDeExtensaoPythonPandas2023-1/blob/main/Primeiro_exemplo_em_Pandas.ipynb\" target=\"_parent\"><img src=\"https://colab.research.google.com/assets/colab-badge.svg\" alt=\"Open In Colab\"/></a>"
      ]
    },
    {
      "cell_type": "markdown",
      "source": [
        "**Primeiro Exemplo de manipulação de dados usando Python Pandas**\n",
        "\n",
        "Autor: Lucas Alexandre Pinheiro Righi\n",
        "Data: 6 de fevereiro de 2023"
      ],
      "metadata": {
        "id": "hnHM7uv3VyQb"
      }
    },
    {
      "cell_type": "code",
      "source": [
        "# Importando biblioteca pandas no Python\n",
        "import pandas as pd\n",
        "\n",
        "combustiveis_df = pd.read_excel(\"ca202102_20230207120945.xlsx\")"
      ],
      "metadata": {
        "id": "nPJAqNg1JebM"
      },
      "execution_count": 2,
      "outputs": []
    },
    {
      "cell_type": "code",
      "source": [
        "#Usa o Print para ver o dataframe!\n",
        "print(combustiveis_df)"
      ],
      "metadata": {
        "id": "f8p6jr1lA8MI"
      },
      "execution_count": null,
      "outputs": []
    },
    {
      "cell_type": "code",
      "source": [
        "display(combustiveis_df)"
      ],
      "metadata": {
        "id": "hd5AhmmYCIeZ"
      },
      "execution_count": null,
      "outputs": []
    },
    {
      "cell_type": "code",
      "source": [
        "#Exibe as primeiras 5 linhas\n",
        "display(combustiveis_df.head())"
      ],
      "metadata": {
        "id": "qWQoEc5gFAsB"
      },
      "execution_count": 11,
      "outputs": []
    },
    {
      "cell_type": "code",
      "source": [
        "#Quero na verdade exibir as primeiras 15 linhas\n",
        "display(combustiveis_df.head(15))"
      ],
      "metadata": {
        "id": "Rw6J0ZmPFcEz"
      },
      "execution_count": null,
      "outputs": []
    },
    {
      "cell_type": "code",
      "source": [
        "#Comandos Dataframe.shape e Dataframe.describe()\n",
        "print(combustiveis_df.shape)\n",
        "#Mosra o número de linhas e colunas (linhas, colunas)\n",
        "\n",
        "#só as linhas\n",
        "print(combustiveis_df.shape[0])"
      ],
      "metadata": {
        "id": "1u0IZCtVHTDD"
      },
      "execution_count": null,
      "outputs": []
    },
    {
      "cell_type": "code",
      "source": [
        "#Quais são as colunas e que tipo de dados cada uma tem...\n",
        "print(combustiveis_df.info())\n"
      ],
      "metadata": {
        "id": "LfD24grIKSYO"
      },
      "execution_count": null,
      "outputs": []
    },
    {
      "cell_type": "code",
      "source": [
        "#describe() mostra as estatísticas \"mais básicas\" que são necessárias\n",
        "print(combustiveis_df.describe())"
      ],
      "metadata": {
        "id": "K4eT5HCWIHCa"
      },
      "execution_count": null,
      "outputs": []
    },
    {
      "cell_type": "code",
      "source": [
        "#filtrar apenas por uma coluna\n",
        "display(combustiveis_df['Revenda'])"
      ],
      "metadata": {
        "id": "cLTDhU6MYSdv"
      },
      "execution_count": null,
      "outputs": []
    },
    {
      "cell_type": "code",
      "source": [
        "#Aqui criamos um novo dataframe apenas com as colunas desejadas \n",
        "ca_df = combustiveis_df[['Revenda','Municipio','Produto','Valor de Venda']]\n",
        "display(ca_df)\n",
        "\n"
      ],
      "metadata": {
        "id": "_RHx9gJ6Znbo"
      },
      "execution_count": null,
      "outputs": []
    },
    {
      "cell_type": "code",
      "source": [
        "#Exibe a 4a. linhas\n",
        "display(ca_df.loc[3])"
      ],
      "metadata": {
        "id": "fouF0Dqobv1S"
      },
      "execution_count": null,
      "outputs": []
    },
    {
      "cell_type": "code",
      "source": [
        "#Exibir da 10ª linha até a 20ª linha\n",
        "display(ca_df.loc[9:19])"
      ],
      "metadata": {
        "id": "VKYcvm9tc36z"
      },
      "execution_count": null,
      "outputs": []
    },
    {
      "cell_type": "code",
      "source": [
        "# Criar uma dataframe gas_df contendo\n",
        "# apenas as 4 colunas (Revenda, Municipio, Produto, Valor de Venda)\n",
        "# somente com combustível sendo GASOLINA.\n",
        "gas_df = ca_df.loc[ca_df['Produto'] == 'GASOLINA']\n",
        "display(gas_df)\n",
        "\n",
        "display(gas_df['Valor de Venda'].max())"
      ],
      "metadata": {
        "id": "p8l-v99NeYGO"
      },
      "execution_count": null,
      "outputs": []
    },
    {
      "cell_type": "code",
      "source": [
        "#Exibir qual  o posto e o municipio da gasolina mais cara do país?\n",
        "display(gas_df[['Revenda', 'Municipio', 'Valor de Venda']].max())"
      ],
      "metadata": {
        "id": "014Of1nKhKsL"
      },
      "execution_count": null,
      "outputs": []
    }
  ]
}